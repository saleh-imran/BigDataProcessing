{
  "nbformat": 4,
  "nbformat_minor": 0,
  "metadata": {
    "colab": {
      "provenance": [],
      "authorship_tag": "ABX9TyPdYWay2Ne0snX1yvbJhPbz",
      "include_colab_link": true
    },
    "kernelspec": {
      "name": "python3",
      "display_name": "Python 3"
    },
    "language_info": {
      "name": "python"
    }
  },
  "cells": [
    {
      "cell_type": "markdown",
      "metadata": {
        "id": "view-in-github",
        "colab_type": "text"
      },
      "source": [
        "<a href=\"https://colab.research.google.com/github/saleh-imran/BigDataProcessing/blob/main/DecisionTree.ipynb\" target=\"_parent\"><img src=\"https://colab.research.google.com/assets/colab-badge.svg\" alt=\"Open In Colab\"/></a>"
      ]
    },
    {
      "cell_type": "markdown",
      "source": [
        "**Import Necessary Libraries**"
      ],
      "metadata": {
        "id": "f3WVf2zzqUUa"
      }
    },
    {
      "cell_type": "code",
      "execution_count": 9,
      "metadata": {
        "colab": {
          "base_uri": "https://localhost:8080/"
        },
        "id": "jYTInPU2nPiY",
        "outputId": "8f4323ee-110c-4527-fa67-ecd68cf9b9d2"
      },
      "outputs": [
        {
          "output_type": "stream",
          "name": "stdout",
          "text": [
            "Requirement already satisfied: pyspark in /usr/local/lib/python3.10/dist-packages (3.4.1)\n",
            "Requirement already satisfied: py4j==0.10.9.7 in /usr/local/lib/python3.10/dist-packages (from pyspark) (0.10.9.7)\n"
          ]
        }
      ],
      "source": [
        "!pip install pyspark\n",
        "from pyspark.sql import SparkSession\n",
        "from pyspark.mllib.tree import DecisionTree, DecisionTreeModel\n",
        "from pyspark.mllib.util import MLUtils\n"
      ]
    },
    {
      "cell_type": "markdown",
      "source": [
        "**Create Spark Session**"
      ],
      "metadata": {
        "id": "cXxD2wX6qZvM"
      }
    },
    {
      "cell_type": "code",
      "source": [
        "spark = SparkSession.builder.appName(\"MLlibDecisionTreeClassification\").getOrCreate()\n"
      ],
      "metadata": {
        "id": "YhJ1R8sDobkM"
      },
      "execution_count": 10,
      "outputs": []
    },
    {
      "cell_type": "markdown",
      "source": [
        "**Load Data**"
      ],
      "metadata": {
        "id": "RHGkzbgeqd9h"
      }
    },
    {
      "cell_type": "code",
      "source": [
        "from pyspark.mllib.util import MLUtils\n",
        "from pyspark.mllib.regression import LabeledPoint\n",
        "\n",
        "# Load and prepare the Titanic dataset\n",
        "data = spark.read.csv('titanic.csv', header=True, inferSchema=True)\n",
        "data = data.select(\"Pclass\", \"Age\", \"Survived\")  # Selecting relevant columns\n",
        "data = data.na.drop()  # Dropping rows with missing values"
      ],
      "metadata": {
        "id": "FrMdJ6nTp6Yq"
      },
      "execution_count": 14,
      "outputs": []
    },
    {
      "cell_type": "markdown",
      "source": [
        "**Convert data to RDD of LabeledPoints**\n"
      ],
      "metadata": {
        "id": "zKqjSVIOqiHl"
      }
    },
    {
      "cell_type": "code",
      "source": [
        "data = data.rdd.map(lambda row: LabeledPoint(row[\"Survived\"], [row[\"Pclass\"], row[\"Age\"]]))\n"
      ],
      "metadata": {
        "id": "CAF6GxB6p8jK"
      },
      "execution_count": 15,
      "outputs": []
    },
    {
      "cell_type": "markdown",
      "source": [
        "**Split the data into training and testing sets**\n"
      ],
      "metadata": {
        "id": "yFeZJfhFqnaF"
      }
    },
    {
      "cell_type": "code",
      "source": [
        "trainData, testData = data.randomSplit([0.8, 0.2], seed=123)\n"
      ],
      "metadata": {
        "id": "tL9hhuf_qCmk"
      },
      "execution_count": 16,
      "outputs": []
    },
    {
      "cell_type": "markdown",
      "source": [
        "**Train a DecisionTree model**\n"
      ],
      "metadata": {
        "id": "69uyN3BetJ8Q"
      }
    },
    {
      "cell_type": "code",
      "source": [
        "model = DecisionTree.trainClassifier(trainData, numClasses=2, categoricalFeaturesInfo={},\n",
        "                                     impurity='gini', maxDepth=5, maxBins=32)\n"
      ],
      "metadata": {
        "id": "XhlYqT1StMID"
      },
      "execution_count": 17,
      "outputs": []
    },
    {
      "cell_type": "markdown",
      "source": [
        "**Evaluate Model**"
      ],
      "metadata": {
        "id": "nOHS62qqqrNX"
      }
    },
    {
      "cell_type": "code",
      "source": [
        "predictions = model.predict(testData.map(lambda x: x.features))\n",
        "labelsAndPredictions = testData.map(lambda lp: lp.label).zip(predictions)\n",
        "testErr = labelsAndPredictions.filter(lambda lp: lp[0] != lp[1]).count() / float(testData.count())\n",
        "print(\"Test Error = {}\".format(testErr))"
      ],
      "metadata": {
        "colab": {
          "base_uri": "https://localhost:8080/"
        },
        "id": "Mok9gnhZqITF",
        "outputId": "a007646b-281d-4913-e392-322185a9bb36"
      },
      "execution_count": 18,
      "outputs": [
        {
          "output_type": "stream",
          "name": "stdout",
          "text": [
            "Test Error = 0.3212121212121212\n"
          ]
        }
      ]
    },
    {
      "cell_type": "markdown",
      "source": [
        "**Display Learned Decision Tree**"
      ],
      "metadata": {
        "id": "3Q0qMmbjquKx"
      }
    },
    {
      "cell_type": "code",
      "source": [
        "print(\"Learned classification tree model:\")\n",
        "print(model.toDebugString)\n"
      ],
      "metadata": {
        "colab": {
          "base_uri": "https://localhost:8080/"
        },
        "id": "NmxWnQIkqMEA",
        "outputId": "d630b6c6-1d3e-4ea4-bf52-8366a3f205d5"
      },
      "execution_count": 19,
      "outputs": [
        {
          "output_type": "stream",
          "name": "stdout",
          "text": [
            "Learned classification tree model:\n",
            "<bound method DecisionTreeModel.toDebugString of DecisionTreeModel classifier of depth 5 with 23 nodes>\n"
          ]
        }
      ]
    },
    {
      "cell_type": "code",
      "source": [
        "spark.stop()\n"
      ],
      "metadata": {
        "id": "UzXsGKkZqQDL"
      },
      "execution_count": 8,
      "outputs": []
    }
  ]
}