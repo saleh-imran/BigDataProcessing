{
  "nbformat": 4,
  "nbformat_minor": 0,
  "metadata": {
    "colab": {
      "provenance": [],
      "mount_file_id": "1Cp8kQ6m6sneu2v-hQmP2jD42oDJyRbfd",
      "authorship_tag": "ABX9TyPEFKLO/iiLgX3zs1BVvOmT",
      "include_colab_link": true
    },
    "kernelspec": {
      "name": "python3",
      "display_name": "Python 3"
    },
    "language_info": {
      "name": "python"
    }
  },
  "cells": [
    {
      "cell_type": "markdown",
      "metadata": {
        "id": "view-in-github",
        "colab_type": "text"
      },
      "source": [
        "<a href=\"https://colab.research.google.com/github/saleh-imran/BigDataProcessing/blob/main/Movie_Recommendation_with_MLlib.ipynb\" target=\"_parent\"><img src=\"https://colab.research.google.com/assets/colab-badge.svg\" alt=\"Open In Colab\"/></a>"
      ]
    },
    {
      "cell_type": "code",
      "source": [
        "import csv\n",
        "\n",
        "# Replace 'input_file.txt' with the path to your input text file.\n",
        "input_file = '/content/drive/MyDrive/data.txt'\n",
        "output_file = 'data.csv'  # Replace 'output_file.csv' with your desired output file name.\n",
        "\n",
        "# Read the data from the input text file and convert it to the desired format.\n",
        "data = []\n",
        "with open(input_file, 'r') as file:\n",
        "    for line in file:\n",
        "        # Split the line by tabs and extract UserID, MovieID, and rating.\n",
        "        user_id, movie_id, rating, _ = line.strip().split('\\t')\n",
        "        data.append([user_id, movie_id, rating])\n",
        "\n",
        "# Add header to the data\n",
        "header = ['UserID', 'MovieID', 'rating']\n",
        "data.insert(0, header)\n",
        "\n",
        "# Write the data into a CSV file.\n",
        "with open(output_file, 'w', newline='') as file:\n",
        "    writer = csv.writer(file)\n",
        "    writer.writerows(data)\n",
        "\n",
        "print(\"Data converted and saved to\", output_file)\n"
      ],
      "metadata": {
        "colab": {
          "base_uri": "https://localhost:8080/"
        },
        "id": "tE24SBeidDlZ",
        "outputId": "81c8218c-0f05-49b6-9868-6d260410f9da"
      },
      "execution_count": 42,
      "outputs": [
        {
          "output_type": "stream",
          "name": "stdout",
          "text": [
            "Data converted and saved to data.csv\n"
          ]
        }
      ]
    },
    {
      "cell_type": "markdown",
      "source": [
        "**Installing Pyspark**"
      ],
      "metadata": {
        "id": "zFDQJ75DqJIH"
      }
    },
    {
      "cell_type": "code",
      "source": [
        "pip install pyspark"
      ],
      "metadata": {
        "colab": {
          "base_uri": "https://localhost:8080/"
        },
        "id": "TbhjvxjedzkV",
        "outputId": "656fe814-acd5-4e6c-dd6b-b6e4ee64ed0e"
      },
      "execution_count": 43,
      "outputs": [
        {
          "output_type": "stream",
          "name": "stdout",
          "text": [
            "Requirement already satisfied: pyspark in /usr/local/lib/python3.10/dist-packages (3.4.1)\n",
            "Requirement already satisfied: py4j==0.10.9.7 in /usr/local/lib/python3.10/dist-packages (from pyspark) (0.10.9.7)\n"
          ]
        }
      ]
    },
    {
      "cell_type": "markdown",
      "source": [
        "**Importing Libraries**"
      ],
      "metadata": {
        "id": "sA-1rB8vqOl7"
      }
    },
    {
      "cell_type": "code",
      "source": [
        "from pyspark.sql import SparkSession\n",
        "from pyspark.mllib.recommendation import ALS, Rating"
      ],
      "metadata": {
        "id": "0Ae8BI85qOMi"
      },
      "execution_count": 44,
      "outputs": []
    },
    {
      "cell_type": "markdown",
      "source": [
        "**Setting up Spark Session**"
      ],
      "metadata": {
        "id": "_eKlxjzSqf4P"
      }
    },
    {
      "cell_type": "code",
      "source": [
        "# Step 1: Set up the SparkSession\n",
        "spark = SparkSession.builder.appName(\"MovieRecommendation\").getOrCreate()"
      ],
      "metadata": {
        "id": "vTwJnuGpqmZY"
      },
      "execution_count": 45,
      "outputs": []
    },
    {
      "cell_type": "markdown",
      "source": [
        "**Load Data**"
      ],
      "metadata": {
        "id": "9njLjDTQqo6j"
      }
    },
    {
      "cell_type": "code",
      "source": [
        "# Step 2: Load and parse the data\n",
        "data_path = \"/content/data.csv\"  # Replace with the path to your dataset file\n",
        "data = spark.read.csv(data_path, header=True, inferSchema=True)\n",
        "ratings = data.rdd.map(lambda row: Rating(int(row[\"UserID\"]), int(row[\"MovieID\"]), float(row[\"rating\"])))"
      ],
      "metadata": {
        "id": "FkyLY9T1qqro"
      },
      "execution_count": 46,
      "outputs": []
    },
    {
      "cell_type": "markdown",
      "source": [
        "**Build Model**"
      ],
      "metadata": {
        "id": "M0YSB--MqyLE"
      }
    },
    {
      "cell_type": "code",
      "source": [
        "# Step 3: Build the recommendation model using Alternating Least Squares\n",
        "rank = 10\n",
        "numIterations = 10\n",
        "model = ALS.train(ratings, rank, numIterations)"
      ],
      "metadata": {
        "id": "4d6l-_Sfq1Ee"
      },
      "execution_count": 47,
      "outputs": []
    },
    {
      "cell_type": "markdown",
      "source": [
        "**Evaluate Model**"
      ],
      "metadata": {
        "id": "Pk6Y_gvmq3K4"
      }
    },
    {
      "cell_type": "code",
      "source": [
        "\n",
        "# Step 4: Evaluate the model on training data\n",
        "testdata = ratings.map(lambda p: (p[0], p[1]))\n",
        "predictions = model.predictAll(testdata).map(lambda r: ((r[0], r[1]), r[2]))\n",
        "ratesAndPreds = ratings.map(lambda r: ((r[0], r[1]), r[2])).join(predictions)\n",
        "MSE = ratesAndPreds.map(lambda r: (r[1][0] - r[1][1])**2).mean()\n",
        "print(\"Mean Squared Error = \" + str(MSE))"
      ],
      "metadata": {
        "colab": {
          "base_uri": "https://localhost:8080/"
        },
        "id": "Ch6PMND7q6nc",
        "outputId": "8c1d2401-8184-4e97-e4e4-1c633ac8cb41"
      },
      "execution_count": 48,
      "outputs": [
        {
          "output_type": "stream",
          "name": "stdout",
          "text": [
            "Mean Squared Error = 0.4816340849785578\n"
          ]
        }
      ]
    }
  ]
}